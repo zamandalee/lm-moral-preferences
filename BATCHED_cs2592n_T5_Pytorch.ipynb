{
  "cells": [
    {
      "cell_type": "markdown",
      "metadata": {
        "id": "view-in-github",
        "colab_type": "text"
      },
      "source": [
        "<a href=\"https://colab.research.google.com/github/zamandalee/lm-moral-preferences/blob/main/BATCHED_cs2592n_T5_Pytorch.ipynb\" target=\"_parent\"><img src=\"https://colab.research.google.com/assets/colab-badge.svg\" alt=\"Open In Colab\"/></a>"
      ]
    },
    {
      "cell_type": "markdown",
      "metadata": {
        "id": "NpJqElfMrd3s"
      },
      "source": [
        "## T5 Preprocessing and Training with Pytorch"
      ]
    },
    {
      "cell_type": "markdown",
      "metadata": {
        "id": "L4D0OZzQaB3I"
      },
      "source": [
        "## 1. Install libraries"
      ]
    },
    {
      "cell_type": "code",
      "execution_count": null,
      "metadata": {
        "colab": {
          "base_uri": "https://localhost:8080/"
        },
        "id": "WhRIV6wXSFbH",
        "outputId": "ea949093-d71b-4f8a-cf63-e431e38e492d"
      },
      "outputs": [
        {
          "output_type": "stream",
          "name": "stdout",
          "text": [
            "Requirement already satisfied: transformers==2.9.0 in /usr/local/lib/python3.7/dist-packages (2.9.0)\n",
            "Requirement already satisfied: sacremoses in /usr/local/lib/python3.7/dist-packages (from transformers==2.9.0) (0.0.53)\n",
            "Requirement already satisfied: sentencepiece in /usr/local/lib/python3.7/dist-packages (from transformers==2.9.0) (0.1.96)\n",
            "Requirement already satisfied: tokenizers==0.7.0 in /usr/local/lib/python3.7/dist-packages (from transformers==2.9.0) (0.7.0)\n",
            "Requirement already satisfied: filelock in /usr/local/lib/python3.7/dist-packages (from transformers==2.9.0) (3.6.0)\n",
            "Requirement already satisfied: requests in /usr/local/lib/python3.7/dist-packages (from transformers==2.9.0) (2.23.0)\n",
            "Requirement already satisfied: tqdm>=4.27 in /usr/local/lib/python3.7/dist-packages (from transformers==2.9.0) (4.64.0)\n",
            "Requirement already satisfied: regex!=2019.12.17 in /usr/local/lib/python3.7/dist-packages (from transformers==2.9.0) (2019.12.20)\n",
            "Requirement already satisfied: numpy in /usr/local/lib/python3.7/dist-packages (from transformers==2.9.0) (1.21.6)\n",
            "Requirement already satisfied: urllib3!=1.25.0,!=1.25.1,<1.26,>=1.21.1 in /usr/local/lib/python3.7/dist-packages (from requests->transformers==2.9.0) (1.24.3)\n",
            "Requirement already satisfied: idna<3,>=2.5 in /usr/local/lib/python3.7/dist-packages (from requests->transformers==2.9.0) (2.10)\n",
            "Requirement already satisfied: certifi>=2017.4.17 in /usr/local/lib/python3.7/dist-packages (from requests->transformers==2.9.0) (2021.10.8)\n",
            "Requirement already satisfied: chardet<4,>=3.0.2 in /usr/local/lib/python3.7/dist-packages (from requests->transformers==2.9.0) (3.0.4)\n",
            "Requirement already satisfied: click in /usr/local/lib/python3.7/dist-packages (from sacremoses->transformers==2.9.0) (7.1.2)\n",
            "Requirement already satisfied: joblib in /usr/local/lib/python3.7/dist-packages (from sacremoses->transformers==2.9.0) (1.1.0)\n",
            "Requirement already satisfied: six in /usr/local/lib/python3.7/dist-packages (from sacremoses->transformers==2.9.0) (1.15.0)\n"
          ]
        }
      ],
      "source": [
        "!pip install transformers==2.9.0"
      ]
    },
    {
      "cell_type": "code",
      "execution_count": null,
      "metadata": {
        "colab": {
          "base_uri": "https://localhost:8080/"
        },
        "id": "ojc3j-S6VS_t",
        "outputId": "ba0d0fcc-6df8-4228-fde7-4dbdcf85e7b8"
      },
      "outputs": [
        {
          "output_type": "stream",
          "name": "stdout",
          "text": [
            "Tue May 10 04:08:27 2022       \n",
            "+-----------------------------------------------------------------------------+\n",
            "| NVIDIA-SMI 460.32.03    Driver Version: 460.32.03    CUDA Version: 11.2     |\n",
            "|-------------------------------+----------------------+----------------------+\n",
            "| GPU  Name        Persistence-M| Bus-Id        Disp.A | Volatile Uncorr. ECC |\n",
            "| Fan  Temp  Perf  Pwr:Usage/Cap|         Memory-Usage | GPU-Util  Compute M. |\n",
            "|                               |                      |               MIG M. |\n",
            "|===============================+======================+======================|\n",
            "|   0  Tesla K80           Off  | 00000000:00:04.0 Off |                    0 |\n",
            "| N/A   73C    P8    33W / 149W |      0MiB / 11441MiB |      0%      Default |\n",
            "|                               |                      |                  N/A |\n",
            "+-------------------------------+----------------------+----------------------+\n",
            "                                                                               \n",
            "+-----------------------------------------------------------------------------+\n",
            "| Processes:                                                                  |\n",
            "|  GPU   GI   CI        PID   Type   Process name                  GPU Memory |\n",
            "|        ID   ID                                                   Usage      |\n",
            "|=============================================================================|\n",
            "|  No running processes found                                                 |\n",
            "+-----------------------------------------------------------------------------+\n"
          ]
        }
      ],
      "source": [
        "# Check we have a GPU and check the memory size of the GUP\n",
        "!nvidia-smi"
      ]
    },
    {
      "cell_type": "markdown",
      "metadata": {
        "id": "7Hpcn7EOWHII"
      },
      "source": [
        "## 2. Prepare Model"
      ]
    },
    {
      "cell_type": "code",
      "execution_count": null,
      "metadata": {
        "id": "f6neDi6_VxU7"
      },
      "outputs": [],
      "source": [
        "\n",
        "import random\n",
        "import pandas as pd\n",
        "import numpy as np\n",
        "import torch\n",
        "from torch.utils.data import Dataset, DataLoader\n",
        "\n",
        "from transformers import (\n",
        "    AdamW,\n",
        "    T5ForConditionalGeneration,\n",
        "    T5Tokenizer,\n",
        "    get_linear_schedule_with_warmup\n",
        ")\n",
        "\n",
        "def set_seed(seed):\n",
        "  random.seed(seed)\n",
        "  np.random.seed(seed)\n",
        "  torch.manual_seed(seed)\n",
        "\n",
        "set_seed(42)"
      ]
    },
    {
      "cell_type": "code",
      "execution_count": null,
      "metadata": {
        "id": "7pXl1TkqfWyi",
        "colab": {
          "base_uri": "https://localhost:8080/"
        },
        "outputId": "c61ae565-0f4e-4e46-eae9-add2dd4a9595"
      },
      "outputs": [
        {
          "output_type": "stream",
          "name": "stdout",
          "text": [
            "/bin/bash: torch.: command not found\n"
          ]
        }
      ],
      "source": [
        " !torch. __version__"
      ]
    },
    {
      "cell_type": "code",
      "execution_count": null,
      "metadata": {
        "id": "CTzBRXGNvaF9"
      },
      "outputs": [],
      "source": [
        "tokenizer = T5Tokenizer.from_pretrained('t5-base')\n",
        "t5_model = T5ForConditionalGeneration.from_pretrained('t5-base')\n"
      ]
    },
    {
      "cell_type": "code",
      "execution_count": null,
      "metadata": {
        "id": "8KlFP1jpzizh"
      },
      "outputs": [],
      "source": [
        "# optimizer\n",
        "no_decay = [\"bias\", \"LayerNorm.weight\"]\n",
        "optimizer_grouped_parameters = [\n",
        "    {\n",
        "        \"params\": [p for n, p in t5_model.named_parameters() if not any(nd in n for nd in no_decay)],\n",
        "        \"weight_decay\": 0.0,\n",
        "    },\n",
        "    {\n",
        "        \"params\": [p for n, p in t5_model.named_parameters() if any(nd in n for nd in no_decay)],\n",
        "        \"weight_decay\": 0.0,\n",
        "    },\n",
        "]\n",
        "optimizer = AdamW(optimizer_grouped_parameters, lr=3e-4, eps=1e-8)\n",
        "\n"
      ]
    },
    {
      "cell_type": "markdown",
      "metadata": {
        "id": "iDZKvscbB6bg"
      },
      "source": [
        "## 3. Prepare Data"
      ]
    },
    {
      "cell_type": "code",
      "execution_count": null,
      "metadata": {
        "id": "82WbxhWMFKWe",
        "colab": {
          "base_uri": "https://localhost:8080/"
        },
        "outputId": "8d00095e-9817-4fbf-c463-349726a2a9e9"
      },
      "outputs": [
        {
          "output_type": "stream",
          "name": "stdout",
          "text": [
            "Drive already mounted at /content/drive; to attempt to forcibly remount, call drive.mount(\"/content/drive\", force_remount=True).\n"
          ]
        }
      ],
      "source": [
        "from google.colab import drive\n",
        "drive.mount('/content/drive')\n",
        "\n",
        "# data_dir = \"\"\n",
        "# data_dir = \"/content/drive/MyDrive/moral_stories_datasets 2/generation/action|context/norm_distance/\"\n",
        "data_dir = \"/content/drive/MyDrive/moral_stories_datasets/generation/action|context/norm_distance/\"\n",
        "# data_dir = \"/content/drive/My Drive/_CS2952N Advanced Topics in DL/cs2952n Final Project/moral_stories_datasets/generation/action|context/norm_distance/\"\n",
        "train_data_dir = data_dir + \"train.jsonl\"\n",
        "test_data_dir = data_dir + \"test.jsonl\""
      ]
    },
    {
      "cell_type": "code",
      "execution_count": null,
      "metadata": {
        "id": "k7VOPX7aCMPC",
        "colab": {
          "base_uri": "https://localhost:8080/",
          "height": 240
        },
        "outputId": "72c62c35-df6f-44fb-a6a7-b9c92f4232f8"
      },
      "outputs": [
        {
          "output_type": "error",
          "ename": "FileNotFoundError",
          "evalue": "ignored",
          "traceback": [
            "\u001b[0;31m---------------------------------------------------------------------------\u001b[0m",
            "\u001b[0;31mFileNotFoundError\u001b[0m                         Traceback (most recent call last)",
            "\u001b[0;32m<ipython-input-16-abe087c26dd8>\u001b[0m in \u001b[0;36m<module>\u001b[0;34m()\u001b[0m\n\u001b[1;32m      4\u001b[0m \u001b[0mog_train_data\u001b[0m\u001b[0;34m,\u001b[0m \u001b[0mog_test_data\u001b[0m \u001b[0;34m=\u001b[0m \u001b[0;34m[\u001b[0m\u001b[0;34m]\u001b[0m\u001b[0;34m,\u001b[0m \u001b[0;34m[\u001b[0m\u001b[0;34m]\u001b[0m\u001b[0;34m\u001b[0m\u001b[0;34m\u001b[0m\u001b[0m\n\u001b[1;32m      5\u001b[0m \u001b[0;34m\u001b[0m\u001b[0m\n\u001b[0;32m----> 6\u001b[0;31m \u001b[0;32mfor\u001b[0m \u001b[0mobj\u001b[0m \u001b[0;32min\u001b[0m \u001b[0mopen\u001b[0m\u001b[0;34m(\u001b[0m\u001b[0mtrain_data_dir\u001b[0m\u001b[0;34m,\u001b[0m \u001b[0;34m'r'\u001b[0m\u001b[0;34m)\u001b[0m\u001b[0;34m:\u001b[0m\u001b[0;34m\u001b[0m\u001b[0;34m\u001b[0m\u001b[0m\n\u001b[0m\u001b[1;32m      7\u001b[0m     \u001b[0mog_train_data\u001b[0m\u001b[0;34m.\u001b[0m\u001b[0mappend\u001b[0m\u001b[0;34m(\u001b[0m\u001b[0mjson\u001b[0m\u001b[0;34m.\u001b[0m\u001b[0mloads\u001b[0m\u001b[0;34m(\u001b[0m\u001b[0mobj\u001b[0m\u001b[0;34m)\u001b[0m\u001b[0;34m)\u001b[0m\u001b[0;34m\u001b[0m\u001b[0;34m\u001b[0m\u001b[0m\n\u001b[1;32m      8\u001b[0m \u001b[0;32mfor\u001b[0m \u001b[0mobj\u001b[0m \u001b[0;32min\u001b[0m \u001b[0mopen\u001b[0m\u001b[0;34m(\u001b[0m\u001b[0mtest_data_dir\u001b[0m\u001b[0;34m,\u001b[0m \u001b[0;34m'r'\u001b[0m\u001b[0;34m)\u001b[0m\u001b[0;34m:\u001b[0m\u001b[0;34m\u001b[0m\u001b[0;34m\u001b[0m\u001b[0m\n",
            "\u001b[0;31mFileNotFoundError\u001b[0m: [Errno 2] No such file or directory: '/content/drive/MyDrive/moral_stories_datasets/generation/action|context/norm_distance/train.jsonl'"
          ]
        }
      ],
      "source": [
        "# Load in the data\n",
        "import json\n",
        "\n",
        "og_train_data, og_test_data = [], []\n",
        "\n",
        "for obj in open(train_data_dir, 'r'):\n",
        "    og_train_data.append(json.loads(obj))\n",
        "for obj in open(test_data_dir, 'r'):\n",
        "    og_test_data.append(json.loads(obj))\n",
        "\n",
        "og_train_data = list(filter(lambda x: x['label'] == '1', og_train_data))\n",
        "og_test_data = list(filter(lambda x: x['label'] == '1', og_test_data))\n",
        "\n",
        "print(\"Train, test len: \", len(og_train_data), len(og_test_data))\n",
        "print(\"Example OG data: \\n\", og_train_data[0])"
      ]
    },
    {
      "cell_type": "code",
      "execution_count": null,
      "metadata": {
        "id": "_dgFh8EwCR5M"
      },
      "outputs": [],
      "source": [
        "def preprocess(data, encoder_max_len=250, decoder_max_len=54):\n",
        "\n",
        "    input_ids = []\n",
        "    masks = []\n",
        "    lm_labels = []\n",
        "    decoder_masks = []\n",
        "\n",
        "    question_pluses = []\n",
        "    answers_pluses = []\n",
        "\n",
        "    for i, example in enumerate(data):\n",
        "        # For dataset_type == ACTION (action|context data)\n",
        "        # Format intention, norm, situation, and action\n",
        "        question = example['intention']\n",
        "        norm = example['norm']\n",
        "        context = example['situation']\n",
        "        answer = example['moral_action']\n",
        "      \n",
        "        # into question and answer\n",
        "        question_plus = f\"answer_me: {str(question)}\"\n",
        "        question_plus += f\" norm: {str(norm)}\"\n",
        "        question_plus += f\" context: {str(context)} </s>\"\n",
        "        answer_plus = f\"{answer} </s>\"\n",
        "\n",
        "        question_pluses.append(question_plus)\n",
        "        answers_pluses.append(answer_plus)\n",
        "\n",
        "        # Tokenize\n",
        "        encoder_inputs = tokenizer.encode_plus(\n",
        "            question_plus, max_length=encoder_max_len, \n",
        "            pad_to_max_length=True, return_tensors=\"pt\"\n",
        "        )\n",
        "        decoder_inputs = tokenizer.encode_plus(\n",
        "            answer_plus, max_length=decoder_max_len, \n",
        "            pad_to_max_length=True, return_tensors=\"pt\"\n",
        "        )\n",
        "\n",
        "        input_ids.append(encoder_inputs[\"input_ids\"])\n",
        "        masks.append(encoder_inputs[\"attention_mask\"])\n",
        "        lm_labels.append(decoder_inputs[\"input_ids\"])\n",
        "        decoder_masks.append(decoder_inputs[\"attention_mask\"])\n",
        "    \n",
        "    return (input_ids, masks, lm_labels, decoder_masks, question_pluses, answers_pluses)"
      ]
    },
    {
      "cell_type": "code",
      "execution_count": null,
      "metadata": {
        "id": "4Eo5S_lUCgjf"
      },
      "outputs": [],
      "source": [
        "train_input_ids, train_masks, train_lm_labels, train_decoder_masks, train_question_pluses, train_answers_pluses = preprocess(og_train_data)\n",
        "test_input_ids, test_masks, test_lm_labels, test_decoder_masks, test_question_pluses, test_answers_pluses = preprocess(og_test_data)\n",
        "\n",
        "print(\"Example mapped data: \\n\", train_input_ids[0], \"\\n\", train_masks[0], \"\\n\", train_lm_labels[0], \"\\n\", train_decoder_masks[0], \"\\n\", train_question_pluses[0], \"\\n\", train_answers_pluses[0])\n",
        "# print(\"Example2 mapped data: \\n\", train_data[1])\n",
        "# print(\"Example3 mapped data: \\n\", train_data[2])"
      ]
    },
    {
      "cell_type": "markdown",
      "metadata": {
        "id": "pAkjy-dsENoc"
      },
      "source": [
        "## 3. Training Loop"
      ]
    },
    {
      "cell_type": "code",
      "execution_count": null,
      "metadata": {
        "id": "iQHqVp9UGzro"
      },
      "outputs": [],
      "source": [
        "# Train the model\n",
        "# t5_model.train()\n",
        "\n",
        "# epochs = 1\n",
        "# batch_size = 30\n",
        "# num_total_examples = 600\n",
        "\n",
        "# for i, start_idx in enumerate(range(0, num_total_examples, batch_size)):\n",
        "#     # Batch\n",
        "#     end_idx = start_idx + batch_size\n",
        "#     batch_train_input_ids = train_input_ids[start_idx:end_idx]\n",
        "#     batch_train_masks = train_masks[start_idx:end_idx]\n",
        "#     batch_train_lm_labels = train_lm_labels[start_idx:end_idx]\n",
        "#     batch_train_decoder_masks = train_decoder_masks[start_idx:end_idx]\n",
        "#     print(batch_train_input_ids)\n",
        "#     print()\n",
        "#     # Forward function automatically creates decoder_input_ids\n",
        "#     output = t5_model(input_ids=torch.cat(batch_train_input_ids), lm_labels=torch.cat(batch_train_lm_labels),\n",
        "#                       attention_mask=torch.cat(batch_train_masks),\n",
        "#                       decoder_attention_mask=torch.cat(batch_train_decoder_masks))\n",
        "#     loss = output[0]\n",
        "#     loss.backward()\n",
        "#     optimizer.step()\n",
        "#     optimizer.zero_grad()\n",
        "\n",
        "#     if (i % 100 == 0):\n",
        "#       print(\"Example \", i, \" ✅\")\n",
        "\n",
        "  # print (\"Epoch \", epoch, \" ✅\")"
      ]
    },
    {
      "cell_type": "markdown",
      "metadata": {
        "id": "QHnSgB7e5pdp"
      },
      "source": [
        "## 4. Test model (THIS I HAVEN'T UPDATED YET - need to test accuracy on `test_data`)"
      ]
    },
    {
      "cell_type": "markdown",
      "metadata": {
        "id": "j-zAG3ChajjU"
      },
      "source": [
        "### 3 epochs 200 examples"
      ]
    },
    {
      "cell_type": "code",
      "execution_count": null,
      "metadata": {
        "id": "-58VqQEOIPhs"
      },
      "outputs": [],
      "source": [
        "# TRY THIS!!! @WILL @MASON\n",
        "\n",
        "# test_input_ids, test_masks, test_lm_labels, test_decoder_masks, test_question_pluses, test_answers_pluses = preprocess(og_test_data)\n",
        "\n",
        "# test_ex = test_data[0]\n",
        "i = 0\n",
        "print(\"Test 1: \\n\", test_question_pluses[i], \"\\n\", test_answers_pluses[i])\n",
        "\n",
        "t5_model.eval()\n",
        "beam_outputs = t5_model.generate(\n",
        "    input_ids=test_input_ids[i],\n",
        "    attention_mask=test_masks[i],\n",
        "    max_length=64,\n",
        "    early_stopping=True,\n",
        "    num_beams=10,\n",
        "    num_return_sequences=3,\n",
        "    no_repeat_ngram_size=2\n",
        ")\n",
        "\n",
        "for beam_output in beam_outputs:\n",
        "    sent = tokenizer.decode(beam_output, skip_special_tokens=True,\n",
        "                            clean_up_tokenization_spaces=True)\n",
        "    print(sent)"
      ]
    },
    {
      "cell_type": "markdown",
      "metadata": {
        "id": "NWP7pz1Gaep7"
      },
      "source": [
        "### 1 epoch 600 examples"
      ]
    },
    {
      "cell_type": "code",
      "execution_count": null,
      "metadata": {
        "id": "l8Oox8oSY7W8"
      },
      "outputs": [],
      "source": [
        "# Train the model\n",
        "t5_model2 = T5ForConditionalGeneration.from_pretrained('t5-base')\n",
        "t5_model2.train()\n",
        "\n",
        "epochs = 1\n",
        "batch_size = 50\n",
        "inputs = train_data[0:600]\n",
        "\n",
        "for i, start_idx in enumerate(range(0, len(inputs), batch_size)):\n",
        "  # Batch\n",
        "  end_idx = start_idx + batch_size\n",
        "  batch_inputs = inputs[start_idx:end_idx]\n",
        "\n",
        "\n",
        "  input_ids = list(map(x['input_ids'] ))\n",
        "  lm_labels = list(map(x['lm_labels'] for x in batch_inputs))\n",
        "  attention_mask = list(map(x['attention_mask'] for x in batch_inputs))\n",
        "  decoder_attention_mask = list(map(x['decoder_attention_mask'] for x in batch_inputs))\n",
        "                                          \n",
        "  # Forward function automatically creates decoder_input_ids\n",
        "  output = t5_model2(input_ids=input_ids, lm_labels=lm_labels,\n",
        "                    attention_mask=attention_mask,\n",
        "                    decoder_attention_mask=decoder_attention_mask)\n",
        "  loss = output[0]\n",
        "  loss.backward()\n",
        "  optimizer.step()\n",
        "  optimizer.zero_grad()\n",
        "\n",
        "  if (i % 100 == 0):\n",
        "    print(\"Example \", i, \" ✅\")\n",
        "\n",
        "# print (\"Epoch \", epoch, \" ✅\")\n",
        "\n",
        "test_ex = test_data[0]\n",
        "print(\"Test 1: \\n\", test_ex['question_plus'], \"\\n\", test_ex['answer_plus'])\n",
        "\n",
        "t5_model2.eval()\n",
        "beam_outputs = t5_model2.generate(\n",
        "    input_ids=test_ex['input_ids'],\n",
        "    attention_mask=test_ex['attention_mask'],\n",
        "    max_length=64,\n",
        "    early_stopping=True,\n",
        "    num_beams=10,\n",
        "    num_return_sequences=3,\n",
        "    no_repeat_ngram_size=2\n",
        ")\n",
        "\n",
        "for beam_output in beam_outputs:\n",
        "    sent = tokenizer.decode(beam_output, skip_special_tokens=True,\n",
        "                            clean_up_tokenization_spaces=True)\n",
        "    print(sent)"
      ]
    },
    {
      "cell_type": "code",
      "execution_count": null,
      "metadata": {
        "id": "tpUH01FvMuus"
      },
      "outputs": [],
      "source": [
        "test_sent = 'falsify: The sailor was happy and joyful. </s>'\n",
        "test_tokenized = tokenizer.encode_plus(test_sent, return_tensors=\"pt\")\n",
        "\n",
        "test_input_ids  = test_tokenized[\"input_ids\"]\n",
        "test_attention_mask = test_tokenized[\"attention_mask\"]\n",
        "\n",
        "t5_model.eval()\n",
        "beam_outputs = t5_model.generate(\n",
        "    input_ids=test_input_ids,attention_mask=test_attention_mask,\n",
        "    max_length=64,\n",
        "    early_stopping=True,\n",
        "    num_beams=10,\n",
        "    num_return_sequences=3,\n",
        "    no_repeat_ngram_size=2\n",
        ")\n",
        "\n",
        "for beam_output in beam_outputs:\n",
        "    sent = tokenizer.decode(beam_output, skip_special_tokens=True,clean_up_tokenization_spaces=True)\n",
        "    print (sent)"
      ]
    },
    {
      "cell_type": "code",
      "execution_count": null,
      "metadata": {
        "id": "Ea-svE2qjgSH"
      },
      "outputs": [],
      "source": [
        "test_sent = 'falsify: This is a safe neighbourhood. </s>'\n",
        "test_tokenized = tokenizer.encode_plus(test_sent, return_tensors=\"pt\")\n",
        "\n",
        "test_input_ids  = test_tokenized[\"input_ids\"]\n",
        "test_attention_mask = test_tokenized[\"attention_mask\"]\n",
        "\n",
        "t5_model.eval()\n",
        "beam_outputs = t5_model.generate(\n",
        "    input_ids=test_input_ids,attention_mask=test_attention_mask,\n",
        "    max_length=64,\n",
        "    early_stopping=True,\n",
        "    num_beams=10,\n",
        "    num_return_sequences=3,\n",
        "    no_repeat_ngram_size=2\n",
        ")\n",
        "\n",
        "for beam_output in beam_outputs:\n",
        "    sent = tokenizer.decode(beam_output, skip_special_tokens=True,clean_up_tokenization_spaces=True)\n",
        "    print (sent)"
      ]
    },
    {
      "cell_type": "code",
      "execution_count": null,
      "metadata": {
        "id": "RxyTXk_Dj7R0"
      },
      "outputs": [],
      "source": [
        "test_sent = 'falsify: The tortoise was very slow. </s>'\n",
        "test_tokenized = tokenizer.encode_plus(test_sent, return_tensors=\"pt\")\n",
        "\n",
        "test_input_ids  = test_tokenized[\"input_ids\"]\n",
        "test_attention_mask = test_tokenized[\"attention_mask\"]\n",
        "\n",
        "t5_model.eval()\n",
        "beam_outputs = t5_model.generate(\n",
        "    input_ids=test_input_ids,attention_mask=test_attention_mask,\n",
        "    max_length=64,\n",
        "    early_stopping=True,\n",
        "    num_beams=10,\n",
        "    num_return_sequences=3,\n",
        "    no_repeat_ngram_size=2\n",
        ")\n",
        "\n",
        "for beam_output in beam_outputs:\n",
        "    sent = tokenizer.decode(beam_output, skip_special_tokens=True,clean_up_tokenization_spaces=True)\n",
        "    print (sent)"
      ]
    }
  ],
  "metadata": {
    "accelerator": "GPU",
    "colab": {
      "collapsed_sections": [],
      "name": "BATCHED cs2592n T5 Pytorch.ipynb",
      "provenance": [],
      "include_colab_link": true
    },
    "kernelspec": {
      "display_name": "Python 3",
      "name": "python3"
    }
  },
  "nbformat": 4,
  "nbformat_minor": 0
}